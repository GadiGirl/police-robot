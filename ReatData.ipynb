{
  "nbformat": 4,
  "nbformat_minor": 0,
  "metadata": {
    "colab": {
      "provenance": []
    },
    "kernelspec": {
      "name": "python3",
      "display_name": "Python 3"
    },
    "language_info": {
      "name": "python"
    }
  },
  "cells": [
    {
      "cell_type": "code",
      "execution_count": null,
      "metadata": {
        "id": "_3jXIOncwa3t"
      },
      "outputs": [],
      "source": [
        "import os\n",
        "import wave\n",
        "import pyaudio\n",
        "\n",
        "CHUNK = 1024\n",
        "FORMAT = pyaudio.paInt16\n",
        "CHANNELS = 2\n",
        "RATE = 44100\n",
        "RECORD_SECONDS = 4\n",
        "WAVE_OUTPUT_FILENAME = \"output.wav\"\n",
        "\n",
        "# Google Drive 동기화 폴더 경로 (raw 문자열 사용)\n",
        "DRIVE_FOLDER = r\"G:\\내 드라이브\\도전학기제\"  # 실제 Google Drive 경로 확인\n",
        "\n",
        "# 폴더 생성 (폴더가 없으면 자동 생성)\n",
        "os.makedirs(DRIVE_FOLDER, exist_ok=True)\n",
        "\n",
        "def record_audio():\n",
        "    p = pyaudio.PyAudio()\n",
        "    stream = p.open(format=FORMAT,\n",
        "                    channels=CHANNELS,\n",
        "                    rate=RATE,\n",
        "                    input=True,\n",
        "                    frames_per_buffer=CHUNK)\n",
        "    print(\"* 녹음 시작 (중지하려면 Ctrl+C)\")\n",
        "\n",
        "    try:\n",
        "        while True:\n",
        "            print(f\"* {RECORD_SECONDS}초간 녹음 중...\")\n",
        "            frames = []\n",
        "\n",
        "            for _ in range(0, int(RATE / CHUNK * RECORD_SECONDS)):\n",
        "                data = stream.read(CHUNK)\n",
        "                frames.append(data)\n",
        "\n",
        "            # 파일 저장 경로\n",
        "            filepath = os.path.join(DRIVE_FOLDER, WAVE_OUTPUT_FILENAME)\n",
        "\n",
        "            # 녹음 파일 저장\n",
        "            with wave.open(filepath, 'wb') as wf:\n",
        "                wf.setnchannels(CHANNELS)\n",
        "                wf.setsampwidth(p.get_sample_size(FORMAT))\n",
        "                wf.setframerate(RATE)\n",
        "                wf.writeframes(b''.join(frames))\n",
        "\n",
        "            print(f\"* 파일 저장 완료: {filepath}\")\n",
        "    except KeyboardInterrupt:\n",
        "        print(\"\\n* 녹음 중지\")\n",
        "    finally:\n",
        "        stream.stop_stream()\n",
        "        stream.close()\n",
        "        p.terminate()\n",
        "\n",
        "record_audio()"
      ]
    }
  ]
}
